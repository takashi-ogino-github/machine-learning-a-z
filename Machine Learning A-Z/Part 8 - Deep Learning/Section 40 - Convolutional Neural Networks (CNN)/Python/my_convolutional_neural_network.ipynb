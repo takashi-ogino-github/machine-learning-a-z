{
  "cells": [
    {
      "attachments": {},
      "cell_type": "markdown",
      "metadata": {
        "colab_type": "text",
        "id": "3DR-eO17geWu"
      },
      "source": [
        "# Convolutional Neural Network"
      ]
    },
    {
      "attachments": {},
      "cell_type": "markdown",
      "metadata": {
        "colab_type": "text",
        "id": "EMefrVPCg-60"
      },
      "source": [
        "### Importing the libraries"
      ]
    },
    {
      "cell_type": "code",
      "execution_count": 16,
      "metadata": {},
      "outputs": [],
      "source": [
        "import tensorflow as tf\n",
        "from keras.preprocessing.image import ImageDataGenerator"
      ]
    },
    {
      "cell_type": "code",
      "execution_count": 17,
      "metadata": {},
      "outputs": [
        {
          "data": {
            "text/plain": [
              "'2.13.0'"
            ]
          },
          "execution_count": 17,
          "metadata": {},
          "output_type": "execute_result"
        }
      ],
      "source": [
        "tf.__version__"
      ]
    },
    {
      "attachments": {},
      "cell_type": "markdown",
      "metadata": {
        "colab_type": "text",
        "id": "oxQxCBWyoGPE"
      },
      "source": [
        "## Part 1 - Data Preprocessing"
      ]
    },
    {
      "attachments": {},
      "cell_type": "markdown",
      "metadata": {
        "colab_type": "text",
        "id": "MvE-heJNo3GG"
      },
      "source": [
        "### Preprocessing the Training set"
      ]
    },
    {
      "cell_type": "code",
      "execution_count": 18,
      "metadata": {},
      "outputs": [
        {
          "name": "stdout",
          "output_type": "stream",
          "text": [
            "Found 8000 images belonging to 2 classes.\n"
          ]
        }
      ],
      "source": [
        "train_datagen = ImageDataGenerator(rescale = 1./255,\n",
        "                                   shear_range = 0.2,\n",
        "                                   zoom_range = 0.2,\n",
        "                                   horizontal_flip = True)\n",
        "training_set = train_datagen.flow_from_directory('dataset/training_set',\n",
        "                                                    target_size = (64, 64),\n",
        "                                                    batch_size = 32,\n",
        "                                                    class_mode = 'binary')"
      ]
    },
    {
      "attachments": {},
      "cell_type": "markdown",
      "metadata": {
        "colab_type": "text",
        "id": "mrCMmGw9pHys"
      },
      "source": [
        "### Preprocessing the Test set"
      ]
    },
    {
      "cell_type": "code",
      "execution_count": 19,
      "metadata": {},
      "outputs": [
        {
          "name": "stdout",
          "output_type": "stream",
          "text": [
            "Found 2000 images belonging to 2 classes.\n"
          ]
        }
      ],
      "source": [
        "test_datagen = ImageDataGenerator(rescale = 1./255)\n",
        "test_set = train_datagen.flow_from_directory('dataset/test_set',\n",
        "                                             target_size = (64, 64),\n",
        "                                             batch_size = 32,\n",
        "                                             class_mode = 'binary')"
      ]
    },
    {
      "attachments": {},
      "cell_type": "markdown",
      "metadata": {
        "colab_type": "text",
        "id": "af8O4l90gk7B"
      },
      "source": [
        "## Part 2 - Building the CNN"
      ]
    },
    {
      "attachments": {},
      "cell_type": "markdown",
      "metadata": {
        "colab_type": "text",
        "id": "ces1gXY2lmoX"
      },
      "source": [
        "### Initialising the CNN"
      ]
    },
    {
      "cell_type": "code",
      "execution_count": 20,
      "metadata": {},
      "outputs": [],
      "source": [
        "cnn = tf.keras.models.Sequential()"
      ]
    },
    {
      "attachments": {},
      "cell_type": "markdown",
      "metadata": {
        "colab_type": "text",
        "id": "u5YJj_XMl5LF"
      },
      "source": [
        "### Step 1 - Convolution"
      ]
    },
    {
      "cell_type": "code",
      "execution_count": 21,
      "metadata": {},
      "outputs": [],
      "source": [
        "cnn.add(tf.keras.layers.Conv2D(filters = 32, kernel_size = 3, activation = 'relu', input_shape = [64, 64, 3]))"
      ]
    },
    {
      "attachments": {},
      "cell_type": "markdown",
      "metadata": {
        "colab_type": "text",
        "id": "tf87FpvxmNOJ"
      },
      "source": [
        "### Step 2 - Pooling"
      ]
    },
    {
      "cell_type": "code",
      "execution_count": 22,
      "metadata": {},
      "outputs": [],
      "source": [
        "cnn.add(tf.keras.layers.MaxPool2D(pool_size = 2, strides = 2))"
      ]
    },
    {
      "attachments": {},
      "cell_type": "markdown",
      "metadata": {
        "colab_type": "text",
        "id": "xaTOgD8rm4mU"
      },
      "source": [
        "### Adding a second convolutional layer"
      ]
    },
    {
      "cell_type": "code",
      "execution_count": 23,
      "metadata": {},
      "outputs": [],
      "source": [
        "cnn.add(tf.keras.layers.Conv2D(filters = 32, kernel_size = 3, activation='relu'))\n",
        "cnn.add(tf.keras.layers.MaxPool2D(pool_size = 2, strides = 2))"
      ]
    },
    {
      "attachments": {},
      "cell_type": "markdown",
      "metadata": {
        "colab_type": "text",
        "id": "tmiEuvTunKfk"
      },
      "source": [
        "### Step 3 - Flattening"
      ]
    },
    {
      "cell_type": "code",
      "execution_count": 24,
      "metadata": {},
      "outputs": [],
      "source": [
        "cnn.add(tf.keras.layers.Flatten())"
      ]
    },
    {
      "attachments": {},
      "cell_type": "markdown",
      "metadata": {
        "colab_type": "text",
        "id": "dAoSECOm203v"
      },
      "source": [
        "### Step 4 - Full Connection"
      ]
    },
    {
      "cell_type": "code",
      "execution_count": 25,
      "metadata": {},
      "outputs": [],
      "source": [
        "cnn.add(tf.keras.layers.Dense(units = 128, activation = 'relu'))"
      ]
    },
    {
      "attachments": {},
      "cell_type": "markdown",
      "metadata": {
        "colab_type": "text",
        "id": "yTldFvbX28Na"
      },
      "source": [
        "### Step 5 - Output Layer"
      ]
    },
    {
      "cell_type": "code",
      "execution_count": 26,
      "metadata": {},
      "outputs": [],
      "source": [
        "cnn.add(tf.keras.layers.Dense(units=1, activation='sigmoid'))"
      ]
    },
    {
      "attachments": {},
      "cell_type": "markdown",
      "metadata": {
        "colab_type": "text",
        "id": "D6XkI90snSDl"
      },
      "source": [
        "## Part 3 - Training the CNN"
      ]
    },
    {
      "attachments": {},
      "cell_type": "markdown",
      "metadata": {
        "colab_type": "text",
        "id": "vfrFQACEnc6i"
      },
      "source": [
        "### Compiling the CNN"
      ]
    },
    {
      "cell_type": "code",
      "execution_count": 27,
      "metadata": {},
      "outputs": [],
      "source": [
        "cnn.compile(optimizer = 'adam', loss = 'binary_crossentropy', metrics = ['accuracy'])"
      ]
    },
    {
      "attachments": {},
      "cell_type": "markdown",
      "metadata": {
        "colab_type": "text",
        "id": "ehS-v3MIpX2h"
      },
      "source": [
        "### Training the CNN on the Training set and evaluating it on the Test set"
      ]
    },
    {
      "cell_type": "code",
      "execution_count": 28,
      "metadata": {},
      "outputs": [
        {
          "name": "stdout",
          "output_type": "stream",
          "text": [
            "Epoch 1/25\n",
            "250/250 [==============================] - 20s 76ms/step - loss: 0.6680 - accuracy: 0.5831 - val_loss: 0.6213 - val_accuracy: 0.6675\n",
            "Epoch 2/25\n",
            "250/250 [==============================] - 19s 74ms/step - loss: 0.5986 - accuracy: 0.6759 - val_loss: 0.6134 - val_accuracy: 0.6650\n",
            "Epoch 3/25\n",
            "250/250 [==============================] - 19s 77ms/step - loss: 0.5505 - accuracy: 0.7215 - val_loss: 0.5811 - val_accuracy: 0.7055\n",
            "Epoch 4/25\n",
            "250/250 [==============================] - 19s 77ms/step - loss: 0.5267 - accuracy: 0.7355 - val_loss: 0.5359 - val_accuracy: 0.7345\n",
            "Epoch 5/25\n",
            "250/250 [==============================] - 19s 77ms/step - loss: 0.4968 - accuracy: 0.7555 - val_loss: 0.5302 - val_accuracy: 0.7420\n",
            "Epoch 6/25\n",
            "250/250 [==============================] - 19s 78ms/step - loss: 0.4780 - accuracy: 0.7710 - val_loss: 0.5086 - val_accuracy: 0.7525\n",
            "Epoch 7/25\n",
            "250/250 [==============================] - 19s 77ms/step - loss: 0.4673 - accuracy: 0.7760 - val_loss: 0.5252 - val_accuracy: 0.7350\n",
            "Epoch 8/25\n",
            "250/250 [==============================] - 19s 78ms/step - loss: 0.4483 - accuracy: 0.7884 - val_loss: 0.4686 - val_accuracy: 0.7795\n",
            "Epoch 9/25\n",
            "250/250 [==============================] - 19s 77ms/step - loss: 0.4425 - accuracy: 0.7887 - val_loss: 0.4558 - val_accuracy: 0.7855\n",
            "Epoch 10/25\n",
            "250/250 [==============================] - 19s 77ms/step - loss: 0.4223 - accuracy: 0.7970 - val_loss: 0.4602 - val_accuracy: 0.7870\n",
            "Epoch 11/25\n",
            "250/250 [==============================] - 19s 77ms/step - loss: 0.4203 - accuracy: 0.8080 - val_loss: 0.4709 - val_accuracy: 0.7870\n",
            "Epoch 12/25\n",
            "250/250 [==============================] - 19s 77ms/step - loss: 0.4142 - accuracy: 0.8075 - val_loss: 0.4531 - val_accuracy: 0.7950\n",
            "Epoch 13/25\n",
            "250/250 [==============================] - 19s 77ms/step - loss: 0.3966 - accuracy: 0.8176 - val_loss: 0.4627 - val_accuracy: 0.7925\n",
            "Epoch 14/25\n",
            "250/250 [==============================] - 19s 78ms/step - loss: 0.3877 - accuracy: 0.8201 - val_loss: 0.4354 - val_accuracy: 0.8035\n",
            "Epoch 15/25\n",
            "250/250 [==============================] - 19s 77ms/step - loss: 0.3803 - accuracy: 0.8244 - val_loss: 0.4677 - val_accuracy: 0.7785\n",
            "Epoch 16/25\n",
            "250/250 [==============================] - 20s 78ms/step - loss: 0.3676 - accuracy: 0.8313 - val_loss: 0.4683 - val_accuracy: 0.7770\n",
            "Epoch 17/25\n",
            "250/250 [==============================] - 19s 77ms/step - loss: 0.3572 - accuracy: 0.8395 - val_loss: 0.4664 - val_accuracy: 0.7965\n",
            "Epoch 18/25\n",
            "250/250 [==============================] - 19s 77ms/step - loss: 0.3540 - accuracy: 0.8419 - val_loss: 0.4362 - val_accuracy: 0.8045\n",
            "Epoch 19/25\n",
            "250/250 [==============================] - 19s 77ms/step - loss: 0.3420 - accuracy: 0.8505 - val_loss: 0.4401 - val_accuracy: 0.8065\n",
            "Epoch 20/25\n",
            "250/250 [==============================] - 19s 76ms/step - loss: 0.3374 - accuracy: 0.8486 - val_loss: 0.4499 - val_accuracy: 0.7930\n",
            "Epoch 21/25\n",
            "250/250 [==============================] - 19s 77ms/step - loss: 0.3302 - accuracy: 0.8553 - val_loss: 0.4308 - val_accuracy: 0.8040\n",
            "Epoch 22/25\n",
            "250/250 [==============================] - 19s 77ms/step - loss: 0.3138 - accuracy: 0.8637 - val_loss: 0.4289 - val_accuracy: 0.8080\n",
            "Epoch 23/25\n",
            "250/250 [==============================] - 19s 77ms/step - loss: 0.3087 - accuracy: 0.8636 - val_loss: 0.4460 - val_accuracy: 0.7995\n",
            "Epoch 24/25\n",
            "250/250 [==============================] - 19s 77ms/step - loss: 0.3018 - accuracy: 0.8669 - val_loss: 0.4637 - val_accuracy: 0.8025\n",
            "Epoch 25/25\n",
            "250/250 [==============================] - 19s 77ms/step - loss: 0.2865 - accuracy: 0.8767 - val_loss: 0.4413 - val_accuracy: 0.8105\n"
          ]
        },
        {
          "data": {
            "text/plain": [
              "<keras.src.callbacks.History at 0x157545fb410>"
            ]
          },
          "execution_count": 28,
          "metadata": {},
          "output_type": "execute_result"
        }
      ],
      "source": [
        "cnn.fit(x = training_set, validation_data = test_set, epochs = 25)"
      ]
    },
    {
      "attachments": {},
      "cell_type": "markdown",
      "metadata": {
        "colab_type": "text",
        "id": "U3PZasO0006Z"
      },
      "source": [
        "## Part 4 - Making a single prediction"
      ]
    },
    {
      "cell_type": "code",
      "execution_count": 29,
      "metadata": {},
      "outputs": [
        {
          "name": "stdout",
          "output_type": "stream",
          "text": [
            "1/1 [==============================] - 0s 46ms/step\n"
          ]
        }
      ],
      "source": [
        "import numpy as np\n",
        "from keras.preprocessing import image\n",
        "test_image = image.load_img('dataset/single_prediction/cat_or_dog_1.jpg', target_size = (64, 64))\n",
        "test_image = image.img_to_array(test_image)\n",
        "test_image = np.expand_dims(test_image, axis = 0)\n",
        "result = cnn.predict(test_image)\n",
        "training_set.class_indices\n",
        "if result[0][0] == 1:\n",
        "    prediction = 'dog'\n",
        "else:\n",
        "    prediction = 'cat'"
      ]
    },
    {
      "cell_type": "code",
      "execution_count": 30,
      "metadata": {},
      "outputs": [
        {
          "name": "stdout",
          "output_type": "stream",
          "text": [
            "dog\n"
          ]
        }
      ],
      "source": [
        "print(prediction)"
      ]
    }
  ],
  "metadata": {
    "colab": {
      "collapsed_sections": [],
      "name": "convolutional_neural_network.ipynb",
      "provenance": [],
      "toc_visible": true
    },
    "kernelspec": {
      "display_name": "Python 3",
      "name": "python3"
    },
    "language_info": {
      "codemirror_mode": {
        "name": "ipython",
        "version": 3
      },
      "file_extension": ".py",
      "mimetype": "text/x-python",
      "name": "python",
      "nbconvert_exporter": "python",
      "pygments_lexer": "ipython3",
      "version": "3.11.3"
    }
  },
  "nbformat": 4,
  "nbformat_minor": 0
}
